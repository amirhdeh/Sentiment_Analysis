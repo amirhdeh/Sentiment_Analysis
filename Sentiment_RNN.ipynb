{
  "cells": [
    {
      "cell_type": "code",
      "execution_count": null,
      "metadata": {
        "collapsed": true,
        "deletable": true,
        "editable": true,
        "id": "hRQ19ahCiUDG"
      },
      "outputs": [],
      "source": [
        "import numpy as np\n",
        "import tensorflow as tf"
      ]
    },
    {
      "cell_type": "code",
      "execution_count": null,
      "metadata": {
        "deletable": true,
        "editable": true,
        "id": "6sM3-dqJiUDJ"
      },
      "outputs": [],
      "source": [
        "with open('reviews.txt', 'r') as f:\n",
        "    reviews = f.read()\n",
        "with open('labels.txt', 'r') as f:\n",
        "    labels = f.read()"
      ]
    },
    {
      "cell_type": "code",
      "execution_count": null,
      "metadata": {
        "deletable": true,
        "editable": true,
        "id": "iyEkK8i7iUDK",
        "outputId": "13db1195-2430-4521-b30c-334b161900d1"
      },
      "outputs": [
        {
          "data": {
            "text/plain": [
              "'bromwell high is a cartoon comedy . it ran at the same time as some other programs about school life  such as  teachers  . my   years in the teaching profession lead me to believe that bromwell high  s satire is much closer to reality than is  teachers  . the scramble to survive financially  the insightful students who can see right through their pathetic teachers  pomp  the pettiness of the whole situation  all remind me of the schools i knew and their students . when i saw the episode in which a student repeatedly tried to burn down the school  i immediately recalled . . . . . . . . . at . . . . . . . . . . high . a classic line inspector i  m here to sack one of your teachers . student welcome to bromwell high . i expect that many adults of my age think that bromwell high is far fetched . what a pity that it isn  t   \\nstory of a man who has unnatural feelings for a pig . starts out with a opening scene that is a terrific example of absurd comedy . a formal orchestra audience is turned into an insane  violent mob by the crazy chantings of it  s singers . unfortunately it stays absurd the whole time with no general narrative eventually making it just too off putting . even those from the era should be turned off . the cryptic dialogue would make shakespeare seem easy to a third grader . on a technical level it  s better than you might think with some good cinematography by future great vilmos zsigmond . future stars sally kirkland and frederic forrest can be seen briefly .  \\nhomelessness  or houselessness as george carlin stated  has been an issue for years but never a plan to help those on the street that were once considered human who did everything from going to school  work  or vote for the matter . most people think of the homeless as just a lost cause while worrying about things such as racism  the war on iraq  pressuring kids to succeed  technology  the elections  inflation  or worrying if they  ll be next to end up on the streets .  br    br   but what if y'"
            ]
          },
          "execution_count": 3,
          "metadata": {},
          "output_type": "execute_result"
        }
      ],
      "source": [
        "reviews[:2000]"
      ]
    },
    {
      "cell_type": "code",
      "execution_count": null,
      "metadata": {
        "collapsed": true,
        "deletable": true,
        "editable": true,
        "id": "N66QFlp9iUDN"
      },
      "outputs": [],
      "source": [
        "from string import punctuation\n",
        "all_text = ''.join([c for c in reviews if c not in punctuation])\n",
        "reviews = all_text.split('\\n')\n",
        "\n",
        "all_text = ' '.join(reviews)\n",
        "words = all_text.split()"
      ]
    },
    {
      "cell_type": "code",
      "execution_count": null,
      "metadata": {
        "deletable": true,
        "editable": true,
        "id": "aoN11781iUDO",
        "outputId": "71536c2f-d14b-4717-d50e-15269a2b5b84"
      },
      "outputs": [
        {
          "data": {
            "text/plain": [
              "'bromwell high is a cartoon comedy  it ran at the same time as some other programs about school life  such as  teachers   my   years in the teaching profession lead me to believe that bromwell high  s satire is much closer to reality than is  teachers   the scramble to survive financially  the insightful students who can see right through their pathetic teachers  pomp  the pettiness of the whole situation  all remind me of the schools i knew and their students  when i saw the episode in which a student repeatedly tried to burn down the school  i immediately recalled          at           high  a classic line inspector i  m here to sack one of your teachers  student welcome to bromwell high  i expect that many adults of my age think that bromwell high is far fetched  what a pity that it isn  t    story of a man who has unnatural feelings for a pig  starts out with a opening scene that is a terrific example of absurd comedy  a formal orchestra audience is turned into an insane  violent mob by the crazy chantings of it  s singers  unfortunately it stays absurd the whole time with no general narrative eventually making it just too off putting  even those from the era should be turned off  the cryptic dialogue would make shakespeare seem easy to a third grader  on a technical level it  s better than you might think with some good cinematography by future great vilmos zsigmond  future stars sally kirkland and frederic forrest can be seen briefly    homelessness  or houselessness as george carlin stated  has been an issue for years but never a plan to help those on the street that were once considered human who did everything from going to school  work  or vote for the matter  most people think of the homeless as just a lost cause while worrying about things such as racism  the war on iraq  pressuring kids to succeed  technology  the elections  inflation  or worrying if they  ll be next to end up on the streets   br    br   but what if you were given a bet to live on the st'"
            ]
          },
          "execution_count": 5,
          "metadata": {},
          "output_type": "execute_result"
        }
      ],
      "source": [
        "all_text[:2000]"
      ]
    },
    {
      "cell_type": "code",
      "execution_count": null,
      "metadata": {
        "deletable": true,
        "editable": true,
        "id": "wiBKHZ3KiUDP",
        "outputId": "2a3c9206-96ae-4479-e793-3523eaeb91d9"
      },
      "outputs": [
        {
          "data": {
            "text/plain": [
              "['bromwell',\n",
              " 'high',\n",
              " 'is',\n",
              " 'a',\n",
              " 'cartoon',\n",
              " 'comedy',\n",
              " 'it',\n",
              " 'ran',\n",
              " 'at',\n",
              " 'the',\n",
              " 'same',\n",
              " 'time',\n",
              " 'as',\n",
              " 'some',\n",
              " 'other',\n",
              " 'programs',\n",
              " 'about',\n",
              " 'school',\n",
              " 'life',\n",
              " 'such',\n",
              " 'as',\n",
              " 'teachers',\n",
              " 'my',\n",
              " 'years',\n",
              " 'in',\n",
              " 'the',\n",
              " 'teaching',\n",
              " 'profession',\n",
              " 'lead',\n",
              " 'me',\n",
              " 'to',\n",
              " 'believe',\n",
              " 'that',\n",
              " 'bromwell',\n",
              " 'high',\n",
              " 's',\n",
              " 'satire',\n",
              " 'is',\n",
              " 'much',\n",
              " 'closer',\n",
              " 'to',\n",
              " 'reality',\n",
              " 'than',\n",
              " 'is',\n",
              " 'teachers',\n",
              " 'the',\n",
              " 'scramble',\n",
              " 'to',\n",
              " 'survive',\n",
              " 'financially',\n",
              " 'the',\n",
              " 'insightful',\n",
              " 'students',\n",
              " 'who',\n",
              " 'can',\n",
              " 'see',\n",
              " 'right',\n",
              " 'through',\n",
              " 'their',\n",
              " 'pathetic',\n",
              " 'teachers',\n",
              " 'pomp',\n",
              " 'the',\n",
              " 'pettiness',\n",
              " 'of',\n",
              " 'the',\n",
              " 'whole',\n",
              " 'situation',\n",
              " 'all',\n",
              " 'remind',\n",
              " 'me',\n",
              " 'of',\n",
              " 'the',\n",
              " 'schools',\n",
              " 'i',\n",
              " 'knew',\n",
              " 'and',\n",
              " 'their',\n",
              " 'students',\n",
              " 'when',\n",
              " 'i',\n",
              " 'saw',\n",
              " 'the',\n",
              " 'episode',\n",
              " 'in',\n",
              " 'which',\n",
              " 'a',\n",
              " 'student',\n",
              " 'repeatedly',\n",
              " 'tried',\n",
              " 'to',\n",
              " 'burn',\n",
              " 'down',\n",
              " 'the',\n",
              " 'school',\n",
              " 'i',\n",
              " 'immediately',\n",
              " 'recalled',\n",
              " 'at',\n",
              " 'high']"
            ]
          },
          "execution_count": 6,
          "metadata": {},
          "output_type": "execute_result"
        }
      ],
      "source": [
        "words[:100]"
      ]
    },
    {
      "cell_type": "code",
      "execution_count": null,
      "metadata": {
        "id": "mj6CbDV-iUDQ",
        "outputId": "7c67c113-ff7b-4223-d278-3bb715a8d949"
      },
      "outputs": [
        {
          "name": "stdout",
          "output_type": "stream",
          "text": [
            "<class 'list'> 25001 bromwell high is a cartoon comedy  it ran at the same time as some other programs about school life  such as  teachers   my   years in the teaching profession lead me to believe that bromwell high  s satire is much closer to reality than is  teachers   the scramble to survive financially  the insightful students who can see right through their pathetic teachers  pomp  the pettiness of the whole situation  all remind me of the schools i knew and their students  when i saw the episode in which a student repeatedly tried to burn down the school  i immediately recalled          at           high  a classic line inspector i  m here to sack one of your teachers  student welcome to bromwell high  i expect that many adults of my age think that bromwell high is far fetched  what a pity that it isn  t    last review: \n"
          ]
        }
      ],
      "source": [
        "print(type(reviews), len(reviews), reviews[0],'last review:', reviews[25000])"
      ]
    },
    {
      "cell_type": "code",
      "execution_count": null,
      "metadata": {
        "deletable": true,
        "editable": true,
        "id": "A9dfE0dCiUDT"
      },
      "outputs": [],
      "source": [
        "# Create your dictionary that maps vocab words to integers here\n",
        "\n",
        "# vocab_to_int = {word:idx+1 for idx,word in enumerate(set(words)) }\n",
        "\n",
        "from collections import Counter\n",
        "counts = Counter(words)\n",
        "vocab = sorted(counts, key=counts.get, reverse=True)\n",
        "vocab_to_int = {word: ii for ii, word in enumerate(vocab, 1)}\n",
        "\n",
        "# Convert the reviews to integers, same shape as reviews list, but with integers\n",
        "reviews_int = []\n",
        "for review in reviews:\n",
        "    reviews_int.append([vocab_to_int[word] for word in review.split()])"
      ]
    },
    {
      "cell_type": "code",
      "execution_count": null,
      "metadata": {
        "deletable": true,
        "editable": true,
        "id": "_I1sNBdkiUDU",
        "outputId": "ad2a1239-782a-43cd-c547-5ac79799b72d"
      },
      "outputs": [
        {
          "ename": "AttributeError",
          "evalue": "'list' object has no attribute 'split'",
          "output_type": "error",
          "traceback": [
            "\u001b[0;31m---------------------------------------------------------------------------\u001b[0m",
            "\u001b[0;31mAttributeError\u001b[0m                            Traceback (most recent call last)",
            "\u001b[0;32m<ipython-input-17-d7b10f4d9a2a>\u001b[0m in \u001b[0;36m<module>\u001b[0;34m()\u001b[0m\n\u001b[1;32m      1\u001b[0m \u001b[0;31m# Convert labels to 1s and 0s for 'positive' and 'negative'\u001b[0m\u001b[0;34m\u001b[0m\u001b[0;34m\u001b[0m\u001b[0m\n\u001b[1;32m      2\u001b[0m \u001b[0mlabels\u001b[0m\u001b[0;34m[\u001b[0m\u001b[0;34m:\u001b[0m\u001b[0;36m100\u001b[0m\u001b[0;34m]\u001b[0m\u001b[0;34m\u001b[0m\u001b[0m\n\u001b[0;32m----> 3\u001b[0;31m \u001b[0mlabels\u001b[0m \u001b[0;34m=\u001b[0m \u001b[0mlist\u001b[0m\u001b[0;34m(\u001b[0m\u001b[0mlabels\u001b[0m\u001b[0;34m.\u001b[0m\u001b[0msplit\u001b[0m\u001b[0;34m(\u001b[0m\u001b[0;34m'\\n'\u001b[0m\u001b[0;34m)\u001b[0m\u001b[0;34m)\u001b[0m\u001b[0;34m\u001b[0m\u001b[0m\n\u001b[0m",
            "\u001b[0;31mAttributeError\u001b[0m: 'list' object has no attribute 'split'"
          ]
        }
      ],
      "source": [
        "# Convert labels to 1s and 0s for 'positive' and 'negative'\n",
        "labels[:100]\n",
        "labels = list(labels.split('\\n'))"
      ]
    },
    {
      "cell_type": "code",
      "execution_count": null,
      "metadata": {
        "id": "A-0AT5SJiUDV",
        "outputId": "b2f8757f-dc34-4d70-cec0-835f58969d06"
      },
      "outputs": [
        {
          "name": "stdout",
          "output_type": "stream",
          "text": [
            "25001\n"
          ]
        },
        {
          "data": {
            "text/plain": [
              "['negative', '']"
            ]
          },
          "execution_count": 23,
          "metadata": {},
          "output_type": "execute_result"
        }
      ],
      "source": [
        "print(len(labels))\n",
        "labels[24999:25001]"
      ]
    },
    {
      "cell_type": "markdown",
      "metadata": {
        "id": "hpEMIFamiUDW"
      },
      "source": [
        "## removing the empty last label from the list"
      ]
    },
    {
      "cell_type": "code",
      "execution_count": null,
      "metadata": {
        "id": "nD6tLXaTiUDW",
        "outputId": "e20caacd-0597-4b6b-96a5-e2d4afdd9586"
      },
      "outputs": [
        {
          "name": "stdout",
          "output_type": "stream",
          "text": [
            "25000\n"
          ]
        }
      ],
      "source": [
        "labels=labels[:25000]\n",
        "print(len(labels))"
      ]
    },
    {
      "cell_type": "code",
      "execution_count": null,
      "metadata": {
        "id": "E5kLmZjSiUDX"
      },
      "outputs": [],
      "source": [
        "labels=np.array([1 if label=='positive' else 0 for label in labels])"
      ]
    },
    {
      "cell_type": "markdown",
      "metadata": {
        "id": "1j6mOi3ciUDY"
      },
      "source": [
        "If you built `labels` correctly, you should see the next output."
      ]
    },
    {
      "cell_type": "code",
      "execution_count": null,
      "metadata": {
        "deletable": true,
        "editable": true,
        "id": "r1oVlUAqiUDY",
        "outputId": "71b8b467-ade2-430b-8695-f0ff548c16f0"
      },
      "outputs": [
        {
          "name": "stdout",
          "output_type": "stream",
          "text": [
            "Zero-length reviews: 1\n",
            "Maximum review length: 2514\n"
          ]
        }
      ],
      "source": [
        "from collections import Counter\n",
        "\n",
        "review_lens = Counter([len(x) for x in reviews_int])\n",
        "print(\"Zero-length reviews: {}\".format(review_lens[0]))\n",
        "print(\"Maximum review length: {}\".format(max(review_lens)))"
      ]
    },
    {
      "cell_type": "code",
      "execution_count": null,
      "metadata": {
        "deletable": true,
        "editable": true,
        "id": "cn1gctvkiUDZ"
      },
      "outputs": [],
      "source": [
        "# Filter out that review with 0 length\n",
        "reviews_ints = [review_int for review_int in reviews_int if len(review_int)>0]"
      ]
    },
    {
      "cell_type": "code",
      "execution_count": null,
      "metadata": {
        "id": "T-LtTsG2iUDa",
        "outputId": "8c7df2b6-1c20-44be-bd8d-0cbf2d3cdd4b"
      },
      "outputs": [
        {
          "name": "stdout",
          "output_type": "stream",
          "text": [
            "Zero-length reviews: 0\n",
            "Maximum review length: 2514\n"
          ]
        }
      ],
      "source": [
        "review_lens = Counter([len(x) for x in reviews_ints])\n",
        "print(\"Zero-length reviews: {}\".format(review_lens[0]))\n",
        "print(\"Maximum review length: {}\".format(max(review_lens)))"
      ]
    },
    {
      "cell_type": "code",
      "execution_count": null,
      "metadata": {
        "deletable": true,
        "editable": true,
        "id": "dvcbT_5RiUDb"
      },
      "outputs": [],
      "source": [
        "seq_len = 200\n",
        "features = []\n",
        "for review in reviews_ints:\n",
        "    if len(review)<seq_len:\n",
        "        arr= [0 for _ in range(seq_len-len(review))]\n",
        "        for i in review:\n",
        "            arr.append(i)\n",
        "        features.append(arr)\n",
        "    else:\n",
        "        features.append(review[:seq_len])\n",
        "        \n",
        "features = np.array(features)"
      ]
    },
    {
      "cell_type": "markdown",
      "metadata": {
        "id": "nWPhLGTpiUDc"
      },
      "source": [
        "If you build features correctly, it should look like that cell output below."
      ]
    },
    {
      "cell_type": "code",
      "execution_count": null,
      "metadata": {
        "scrolled": true,
        "id": "WG8nIn1siUDc",
        "outputId": "79ca90e0-9a52-4e20-97a7-5385dd7d17ec"
      },
      "outputs": [
        {
          "data": {
            "text/plain": [
              "array([[   16,    71,  1248,    11,    20,   266,   180,     9,    60,\n",
              "          344,   674,     4,    31,    57,    58,  5585,   566,  3640,\n",
              "           47,  2064,   309,    57,     2,    57,   173,    12,    25,\n",
              "            6,     3,  1233, 11678,   145,   107,   140,    15,  2469,\n",
              "            1, 13466,     2,   197, 51446,     8,     6,   774,    12,\n",
              "           25,    14,     3,   520,     2, 18221,   157,    15,   227,\n",
              "           15,   202,     2,  1045,  1187,   266,    25,  1063,     3,\n",
              "           63,     2,  1593,     3,   666,   480,     5,     1,    20,\n",
              "           19,  2563,     6,    37,    74,   271,     5,    27,    81,\n",
              "        13835,     4,  3458,     1,    20,     6,  4782,   713,     2,\n",
              "         2043,   654,    16,  2423,   112,   918,     2,   218,   104,\n",
              "         8490],\n",
              "       [   16,    11,    18, 10164,     3,   162,   358,     9,  2821,\n",
              "            2,    47,   265,     1,  1243,   427,    62,    31, 19946,\n",
              "          206,   149,    29,  1061,     7,     7,    84,   123,     1,\n",
              "          449,   120,    28,   776,     4,   396,     2,    46,  2360,\n",
              "           72,    97,    28,   409,     3,  1172,   349,     3,  1042,\n",
              "         3925,  1187,    42,     3, 10400, 23807,    19,     1,   112,\n",
              "           14,    40,    30,   761,     5, 27293,     2,    32,    30,\n",
              "          210,   337,  1965,     8,     7,     7,  1376,     9,     3,\n",
              "         5159,    89,    17,    35,  2920,    16,   618,     3,   668,\n",
              "         2189,  1360,  5044,     3,  5070, 31960,   768,    36,    51,\n",
              "           89,     3,  6561,     2,     3, 67600,    17,     1,   171,\n",
              "        10378],\n",
              "       [  144,     9,    80,    10,   371,    12,   273, 11155, 40368,\n",
              "        20986,  2269,     1,  2375,   333,     4,  2489,  4241,     1,\n",
              "        50176,   378,     1,   176,   196,     2,     3,   240,   509,\n",
              "         2498,     5, 53489,    11,    14,    82,     1,   192,   273,\n",
              "            9,     1,   752,     4,  2563,    30,     4,     1,  1104,\n",
              "          107,     4,    31,    57,     3,   768,    44,     1,  1552,\n",
              "            4,  1274,    44,     3,   405,     2,     3,   237,    36,\n",
              "          787,     9,   115,    19,    26,  3026,   948,    34,    67,\n",
              "         1006,   691,     2,    32,     1,  5644,     4,    67,   899,\n",
              "         6678,     1,  1552,   874,    17,  1665,    10,    89,    23,\n",
              "          102,  1706,    97,    28,   853,  2563,     5,    29,    15,\n",
              "          653],\n",
              "       [    1,  1655,     4,  8176,  3865,     9,     3,   106,   412,\n",
              "         6561,     6,    44,     1,    64,   152,    12,  5237,    21,\n",
              "           56,    38,   129,  1641,   136,   148,  7688,     1,  7985,\n",
              "         1313,   327,  6443,   162,    20,    32,     1,  6101,    11,\n",
              "         2390,    76,   107,    26,    76,   107,     2,    69,    66,\n",
              "           49,   175,  1221,    19,  7688,     6,    24,    43,     3,\n",
              "           76,    20,     8,    13,     3,   388,    20,   388,    86,\n",
              "            8,   302,    92,   300,    16,  2455,   388,    82,    86,\n",
              "            1,  1024,   528,     5,    75,   243,   205,     3,   112,\n",
              "           42,   100,  1117,   282,    64,    86,    33,   139,   188,\n",
              "          192,    18,   374, 26502,   391,     2,   516,    34, 13749,\n",
              "         9556],\n",
              "       [  566,  3640,    13,  2563,     6,  2011,     3,   711,  1115,\n",
              "           17,  1087, 10931,     2, 17410,     3,  3653,  1551,   115,\n",
              "           63,   265,   427,     1,   958,     4,    11,   664,  1349,\n",
              "         1456,     8,    13,    35,  5123,    18,    12, 14257,   438,\n",
              "          115,     2,  1848,     7,     7, 11183, 11033,     6,  1280,\n",
              "           22,   261,    17,   192,  3293,  8172,  1781,  1658, 37343,\n",
              "            2, 11342,    25,    13,     3,   859,  3493, 43850,    17,\n",
              "         1585, 10941,     2,     3, 16874,    16,   110,     7,     7,\n",
              "         1750,  9890,     6,   425,  1300,    15,     1,  1445,  2982,\n",
              "          691,  1577,  3933,     5,     3,  1573,   997,   225,    36,\n",
              "          648,   750,    30,   307, 27275,     5,     1,  6307,     4,\n",
              "         4791],\n",
              "       [  140,     3,   194, 10953,    18,    19,     8,    47,   672,\n",
              "           71,     2,    60,   359,    36,    68,   808,     5,    66,\n",
              "            1,    18,    22,     1,    84,   245,    38,     1,  4186,\n",
              "            8,   597,    39,     3,   202,    18,    19,     8,   667,\n",
              "           45,     5,    29,     3,    45,    45,   207,     3,    76,\n",
              "          207,    19,    30,   152,    12,   993,  4724,     6,     1,\n",
              "          113,    34,   132,  1603,   156,    33,   139,   220,    67,\n",
              "          172,     4,     1,    18,    55,    72,    50,   113,    19,\n",
              "           10,    89,    23,   102,    12,    51,   592,     1,    18,\n",
              "         2691,    47,    77,   320,  1272, 64929, 37117, 44400,    70,\n",
              "           31, 10536,    17,  1374,  2629,  2158,     1,    94,     1,\n",
              "        16175],\n",
              "       [    0,     0,     0,     0,     0,     0,     0,     0,     0,\n",
              "            0,     0,     0,     0,     0,     0,     0,     0,     0,\n",
              "            0,     0,     0,     0,     0,     0,     0,     0,     0,\n",
              "            0,     0,     0,     0,     0,     0,     0,     0,     0,\n",
              "            0,     0,     0,     0,     0,     0,     0,     0,     0,\n",
              "            0,     0,     0,     0,     0,     0,     0,     0,     0,\n",
              "            0,     0,     0,     0,     0,     0,     0,     0,     0,\n",
              "            0,     0,     0,     0,     0,     0,     0,     0,     0,\n",
              "            0,     0,     0,     0,     0,     0,     0,     0,     0,\n",
              "            0,     0,     0,     0,     0,     0,     0,     0,     0,\n",
              "            0,     0,     0,     0,     0,     0,     0,     0,     0,\n",
              "            0],\n",
              "       [   10,    61,    28,   419,     5,   882,    44,     1,    63,\n",
              "           19,    40,   285,    23,   100,    10,    61,    28,   419,\n",
              "            5,  3174,     3,   369,     4,   250,  3320,  3222,    38,\n",
              "            1,    18,    19, 30985,     6,    64,   164,    16,    39,\n",
              "          229,   101,    12,    92, 12876,    10,    61,    28,   419,\n",
              "            5, 19737,   119,     1,   395,  1166,  3078,   817,    19,\n",
              "            8,    14,    15,   714,    15,  6917,  4536,     3, 16416,\n",
              "         5618,    18,    10,    61,    28,   419,     5,   724,     4,\n",
              "            1,  1254,     4,     1,  2191,   202,    19,    10,    89,\n",
              "           23,    39,  2410,    74,     7,     7,  8373,     7,     7,\n",
              "           31,     9,    31,    11,    18,     6,   398,    16,    78,\n",
              "         2910],\n",
              "       [ 2563,   516,    34,   566,  3640,  2388,     3,  2585,   115,\n",
              "           63,    22,     1,  1349,   930,     4,     1,  2563,     1,\n",
              "          112,     6,   595, 67527,    42,    24,    16,   147,    36,\n",
              "          115,  1828,    12,   977,     2,   462,     2,   395,    21,\n",
              "            9,   817,     1,   130,     4,     1,    18,    51,    29,\n",
              "         2611,    45,   728,   229,     4,     1,   373,     4,     1,\n",
              "           20,    19,     1,   115,    63,     6,    35,   218,    30,\n",
              "          189,  1750, 32550,     6,   383,    15,  2101,    35, 10198,\n",
              "          184,   721, 20127,    34,  6457,  1453,  5650,   392,    22,\n",
              "            1,  6462,  2101,   874,   669, 11183, 11033,     3,  2329,\n",
              "          691,  1614,    22,    27,    94,     5,   827,   101,  1550,\n",
              "           27],\n",
              "       [    0,     0,     0,     0,     0,     0,     0,     0,     0,\n",
              "            0,     0,     0,     0,     0,     0,     0,     0,     0,\n",
              "            0,     0,     0,     0,     0,     0,     0,     0,     0,\n",
              "            0,     0,     0,     0,     0,     0,     0,     0,     0,\n",
              "            0,     0,     0,     0,     0,     0,     0,     0,     0,\n",
              "            0,     0,     0,     0,     0,     0,     0,     0,     0,\n",
              "            0,     0,     0,     0,     0,     0,     0,     0,     0,\n",
              "            0,     0,     0,     0,     0,     0,     0,     0,     0,\n",
              "            0,     0,     0,     0,     0,     0,     0,     0,     0,\n",
              "            0,     0,     0,    11,     6,     1,  1104,  4014,     4,\n",
              "           10,    89,   122,    48,   157,    47,     6,    27,   327,\n",
              "            4]])"
            ]
          },
          "execution_count": 30,
          "metadata": {},
          "output_type": "execute_result"
        }
      ],
      "source": [
        "features[90:100,:100]"
      ]
    },
    {
      "cell_type": "code",
      "execution_count": null,
      "metadata": {
        "deletable": true,
        "editable": true,
        "id": "DJkrWcqriUDd",
        "outputId": "1ca439d9-61a9-465b-94d8-ee53c05c973c"
      },
      "outputs": [
        {
          "data": {
            "text/plain": [
              "array([[    0,     0,     0,     0,     0,     0,     0,     0,     0,\n",
              "            0,     0,     0,     0,     0,     0,     0,     0,     0,\n",
              "            0,     0,     0,     0,     0,     0,     0,     0,     0,\n",
              "            0,     0,     0,     0,     0,     0,     0,     0,     0,\n",
              "            0,     0,     0,     0,     0,     0,     0,     0,     0,\n",
              "            0,     0,     0,     0,     0,     0,     0,     0,     0,\n",
              "            0,     0,     0,     0,     0,     0, 21325,   308,     6,\n",
              "            3,  1051,   207,     8,  2138,    32,     1,   171,    57,\n",
              "           15,    49,    81,  5820,    44,   382,   110,   140,    15,\n",
              "         5198,    60,   154,     9,     1,  5010,  5870,   475,    71,\n",
              "            5,   260,    12, 21325,   308,    13,  1981,     6,    74,\n",
              "         2399],\n",
              "       [    0,     0,     0,     0,     0,     0,     0,     0,     0,\n",
              "            0,     0,     0,     0,     0,     0,     0,     0,     0,\n",
              "            0,     0,     0,     0,     0,     0,     0,     0,     0,\n",
              "            0,     0,     0,     0,     0,     0,     0,     0,     0,\n",
              "            0,     0,     0,     0,     0,     0,     0,     0,     0,\n",
              "            0,     0,     0,     0,     0,     0,     0,     0,     0,\n",
              "            0,     0,     0,     0,     0,     0,     0,     0,     0,\n",
              "            0,     0,     0,     0,     0,     0,     0,     0,     0,\n",
              "            0,     0,     0,     0,     0,     0,     0,     0,     0,\n",
              "            0,     0,     0,     0,     0,    63,     4,     3,   125,\n",
              "           36,    47,  7575,  1396,    16,     3,  4212,   505,    45,\n",
              "           17],\n",
              "       [23708,    42, 60545,    15,   707, 17721,  3401,    47,    77,\n",
              "           35,  1824,    16,   154,    19,   114,     3,  1306,     5,\n",
              "          336,   147,    22,     1,   857,    12,    70,   281,  1168,\n",
              "          399,    36,   120,   283,    38,   169,     5,   382,   158,\n",
              "           42,  2270,    16,     1,   541,    90,    78,   102,     4,\n",
              "            1,  3255,    15,    43,     3,   408,  1068,   136,  8111,\n",
              "           44,   182,   140,    15,  3058,     1,   321,    22,  4838,\n",
              "        26247,   346,     5,  3101,  2098,     1, 19475, 18627,    42,\n",
              "         8111,    46,    33,   236,    29,   370,     5,   130,    56,\n",
              "           22,     1,  1928,     7,     7,    19,    48,    46,    21,\n",
              "           70,   345,     3,  2103,     5,   407,    22,     1,  1928,\n",
              "           16],\n",
              "       [ 4517,   505,    15,     3,  3353,   162,  8314,  1653,     6,\n",
              "         4856,    56,    17,  4524,  5656,   140, 11802,     5,   997,\n",
              "         4973,  2936,  4479,   566,  1202,    36,     6,  1520,    96,\n",
              "            3,   744,     4, 27622,    13,     5,    27,  3482,     9,\n",
              "        10805,     4,     8,   111,  3014,     5,     1,  1027,    15,\n",
              "            3,  4418,    82,    22,  2052,     6,  4479,   538,  2775,\n",
              "         7108, 38233,    41,   463,     1,  8314, 67482,   302,   123,\n",
              "           15,  4221,    19,  1671,   923,     1,  1653,     6,  6158,\n",
              "        20310,    34,     1,   980,  1754, 23270,   646, 25925,    27,\n",
              "          106, 11750,    13, 14476, 15575, 18153,  2461,   466, 21493,\n",
              "           36,  3280,     1,  6395,  1020,    45,    17,  2705,  2501,\n",
              "           33],\n",
              "       [    0,     0,     0,     0,     0,     0,     0,     0,     0,\n",
              "            0,     0,     0,     0,     0,     0,     0,     0,     0,\n",
              "            0,     0,     0,     0,     0,     0,     0,     0,     0,\n",
              "            0,     0,     0,     0,     0,     0,     0,     0,     0,\n",
              "            0,     0,     0,     0,     0,     0,     0,     0,     0,\n",
              "            0,     0,     0,     0,     0,   520,   119,   113,    34,\n",
              "        16972,  1818,  3755,   117,   885, 21856,   721,    10,    28,\n",
              "          124,   108,     2,   115,   137,     9,  1625,  7788,    26,\n",
              "          330,     5,   589,     1,  6195,    22,   386,     6,     3,\n",
              "          349,    15,    50,    15,   231,     9,  7535, 11420,     1,\n",
              "          191,    22,  9109,     6,    82,   880,   101,   111,  3585,\n",
              "            4],\n",
              "       [    0,     0,     0,     0,     0,     0,     0,     0,     0,\n",
              "            0,     0,     0,     0,     0,     0,     0,     0,     0,\n",
              "            0,     0,     0,     0,     0,     0,     0,     0,     0,\n",
              "            0,     0,     0,     0,     0,     0,     0,     0,     0,\n",
              "            0,     0,     0,     0,     0,     0,     0,     0,     0,\n",
              "            0,     0,     0,     0,     0,     0,     0,     0,     0,\n",
              "           11,    20,  3665,   141,    10,   423,    23,   272,    60,\n",
              "         4367,    22,    32,    84,  3293,    22,     1,   172,     4,\n",
              "            1,   952,   506,    11,  4978,  5396,     5,   574,     4,\n",
              "         1155,    54,    53,  5324,     1,   261,    17,    41,   952,\n",
              "          125,    59,     1,   711,   137,   379,   627,    15,   111,\n",
              "         1513],\n",
              "       [    0,     0,     0,     0,     0,     0,     0,     0,     0,\n",
              "            0,     0,     0,     0,     0,     0,     0,     0,     0,\n",
              "            0,     0,     0,     0,     0,     0,     0,     0,     0,\n",
              "            0,     0,     0,     0,     0,     0,     0,     0,     0,\n",
              "            0,     0,     0,     0,     0,     0,     0,     0,     0,\n",
              "            0,     0,     0,     0,     0,     0,     0,     0,     0,\n",
              "            0,     0,     0,     0,     0,     0,     0,     0,     0,\n",
              "            0,     0,     0,     0,     0,     0,     0,     0,     0,\n",
              "            0,     0,     0,     0,    11,     6,   693,     1,    90,\n",
              "         2162,    20, 11916,     1,  2818,  5228,   249,    92,  3010,\n",
              "            8,   126,    24,   200,     3,   802,   634,     4, 23708,\n",
              "         1002],\n",
              "       [    0,     0,     0,     0,     0,     0,     0,     0,     0,\n",
              "            0,     0,     0,     0,     0,     0,     0,     0,     0,\n",
              "            0,     0,     0,     0,     0,     0,     0,     0,     0,\n",
              "            0,     0,     0,     0,     0,     0,     0,     0,     0,\n",
              "            0,     0,     0,     0,     0,     0,     0,     0,     0,\n",
              "            0,     0,   786,   295,    10,   122,    11,     6,   418,\n",
              "            5,    29,    35,   482,    20,    19,  1286,    33,   142,\n",
              "           28,  2666,    45,  1844,    32,     1,  2779,    37,    78,\n",
              "           97,  2442,    67,  3952,    45,     2,    24,   105,   256,\n",
              "            1,   134,  1575,     2, 12430,   452,    14,   319,    11,\n",
              "           63,     6,    98,  1323,     5,   105,     1,  3785,     4,\n",
              "            3],\n",
              "       [    0,     0,     0,     0,     0,     0,     0,     0,     0,\n",
              "            0,     0,     0,     0,     0,     0,     0,     0,     0,\n",
              "            0,     0,     0,     0,     0,     0,     0,     0,     0,\n",
              "            0,     0,     0,     0,     0,     0,     0,     0,     0,\n",
              "            0,     0,     0,     0,     0,     0,     0,     0,     0,\n",
              "            0,     0,     0,     0,     0,     0,     0,     0,     0,\n",
              "            0,     0,     0,     0,     0,     0,     0,     0,     0,\n",
              "            0,     0,     0,     0,     0,     0,     0,     0,     0,\n",
              "            0,     0,     0,     0,     0,     0,     0,    11,     6,\n",
              "           24,     1,   779,  3705,  2818,    20,     8,    14,    74,\n",
              "          325,  2738,    73,    90,     4,    27,    99,     2,   165,\n",
              "           68],\n",
              "       [   54,    10,    14,   116,    60,   798,   552,    71,   364,\n",
              "            5,     1,   730,     5,    66,  8173,     8,    14,    30,\n",
              "            4,   109,    99,    10,   293,    17,    60,   798,    19,\n",
              "           11,    14,     1,    64,    30,    69,  2506,    45,     4,\n",
              "          234,    93,    10,    68,   114,   108,  8173,   363,    43,\n",
              "         1009,     2,    10,    97,    28,  1431,    45,     1,   357,\n",
              "            4,    60,   110,   205,     8,    48,     3,  1930, 11030,\n",
              "            2,  2131,   354,   412,     4,    13,  6610,     2,  2986,\n",
              "         5174,  2127,  1369,     6,    30,     4,    60,   502,   875,\n",
              "           19,  8173,     6,    34,   227,     1,   247,   412,     4,\n",
              "          582,     4,    27,   599,     9,     1, 13671,   396,     4,\n",
              "        14516]])"
            ]
          },
          "execution_count": 31,
          "metadata": {},
          "output_type": "execute_result"
        }
      ],
      "source": [
        "features[:10,:100]"
      ]
    },
    {
      "cell_type": "markdown",
      "metadata": {
        "deletable": true,
        "editable": true,
        "id": "lV8SArEviUDe"
      },
      "source": [
        "## Training, Validation, Test\n",
        "\n"
      ]
    },
    {
      "cell_type": "code",
      "execution_count": null,
      "metadata": {
        "id": "hJJOAPrZiUDe",
        "outputId": "0d9bbd07-2dd9-471c-b5af-b8442c681537"
      },
      "outputs": [
        {
          "name": "stdout",
          "output_type": "stream",
          "text": [
            "(25000, 200) (25000,)\n"
          ]
        }
      ],
      "source": [
        "print(features.shape, labels.shape)"
      ]
    },
    {
      "cell_type": "code",
      "execution_count": null,
      "metadata": {
        "deletable": true,
        "editable": true,
        "id": "wXRmnYs7iUDf",
        "outputId": "023254c2-eafb-4dc1-dedc-f7e4d7116593"
      },
      "outputs": [
        {
          "name": "stdout",
          "output_type": "stream",
          "text": [
            "\t\t\tFeature Shapes:\n",
            "Train set: \t\t(20000, 200) \n",
            "Validation set: \t(2500, 200) \n",
            "Test set: \t\t(2500, 200)\n"
          ]
        }
      ],
      "source": [
        "split_frac = 0.8\n",
        "split_idx = int(len(features)*0.8)\n",
        "\n",
        "train_x, val_x = features[:split_idx], features[split_idx:]\n",
        "train_y, val_y = labels[:split_idx], labels[split_idx:]\n",
        "\n",
        "test_idx = int(len(val_x)*0.5)\n",
        "val_x, test_x = val_x[:test_idx], val_x[test_idx:]\n",
        "val_y, test_y = val_y[:test_idx], val_y[test_idx:]\n",
        "\n",
        "print(\"\\t\\t\\tFeature Shapes:\")\n",
        "print(\"Train set: \\t\\t{}\".format(train_x.shape), \n",
        "      \"\\nValidation set: \\t{}\".format(val_x.shape),\n",
        "      \"\\nTest set: \\t\\t{}\".format(test_x.shape))"
      ]
    },
    {
      "cell_type": "markdown",
      "metadata": {
        "deletable": true,
        "editable": true,
        "id": "bxcjsBeZiUDf"
      },
      "source": [
        "With train, validation, and text fractions of 0.8, 0.1, 0.1, the final shapes should look like:\n",
        "```\n",
        "                    Feature Shapes:\n",
        "Train set: \t\t (20000, 200) \n",
        "Validation set: \t(2500, 200) \n",
        "Test set: \t\t  (2501, 200)\n",
        "```"
      ]
    },
    {
      "cell_type": "code",
      "execution_count": null,
      "metadata": {
        "collapsed": true,
        "deletable": true,
        "editable": true,
        "id": "5j_I7MVwiUDg"
      },
      "outputs": [],
      "source": [
        "lstm_size = 256\n",
        "lstm_layers = 1\n",
        "batch_size = 500\n",
        "learning_rate = 0.001"
      ]
    },
    {
      "cell_type": "markdown",
      "metadata": {
        "deletable": true,
        "editable": true,
        "id": "RQkHM9LviUDg"
      },
      "source": [
        "For the network itself, we'll be passing in our 200 element long review vectors. Each batch will be `batch_size` vectors. We'll also be using dropout on the LSTM layer, so we'll make a placeholder for the keep probability."
      ]
    },
    {
      "cell_type": "markdown",
      "metadata": {
        "deletable": true,
        "editable": true,
        "id": "h9E1Ps6niUDg"
      },
      "source": [
        "> **Exercise:** Create the `inputs_`, `labels_`, and drop out `keep_prob` placeholders using `tf.placeholder`. `labels_` needs to be two-dimensional to work with some functions later.  Since `keep_prob` is a scalar (a 0-dimensional tensor), you shouldn't provide a size to `tf.placeholder`."
      ]
    },
    {
      "cell_type": "code",
      "execution_count": null,
      "metadata": {
        "deletable": true,
        "editable": true,
        "id": "SmTP4b2QiUDh"
      },
      "outputs": [],
      "source": [
        "n_words = len(vocab)\n",
        "\n",
        "# Create the graph object\n",
        "graph = tf.Graph()\n",
        "# Add nodes to the graph\n",
        "with graph.as_default():\n",
        "    inputs_ = tf.placeholder(tf.int32,[None, None], name='inputs')\n",
        "    labels_ = tf.placeholder(tf.int32,[None, None], name='labels')\n",
        "    keep_prob = tf.placeholder(tf.float32)"
      ]
    },
    {
      "cell_type": "code",
      "execution_count": null,
      "metadata": {
        "deletable": true,
        "editable": true,
        "id": "2AaB5b60iUDi"
      },
      "outputs": [],
      "source": [
        "# Size of the embedding vectors (number of units in the embedding layer)\n",
        "embed_size = 300 \n",
        "\n",
        "with graph.as_default():\n",
        "    embedding = tf.Variable(tf.random_uniform((n_words,embed_size),-1,1))\n",
        "    embed = tf.nn.embedding_lookup(embedding, inputs_)"
      ]
    },
    {
      "cell_type": "code",
      "execution_count": null,
      "metadata": {
        "deletable": true,
        "editable": true,
        "id": "bhSqcEF2iUDj"
      },
      "outputs": [],
      "source": [
        "with graph.as_default():\n",
        "    # Your basic LSTM cell\n",
        "    lstm = tf.contrib.rnn.BasicLSTMCell(lstm_size)\n",
        "    \n",
        "    # Add dropout to the cell\n",
        "    drop = tf.contrib.rnn.DropoutWrapper(lstm, output_keep_prob=keep_prob)\n",
        "    \n",
        "    # Stack up multiple LSTM layers, for deep learning\n",
        "    cell = tf.contrib.rnn.MultiRNNCell([drop]* lstm_layers)\n",
        "    \n",
        "    # Getting an initial state of all zeros\n",
        "    initial_state = cell.zero_state(batch_size, tf.float32)"
      ]
    },
    {
      "cell_type": "code",
      "execution_count": null,
      "metadata": {
        "deletable": true,
        "editable": true,
        "id": "qCYxT282iUDk"
      },
      "outputs": [],
      "source": [
        "with graph.as_default():\n",
        "    outputs, final_state = tf.nn.dynamic_rnn(cell, embed, initial_state=initial_state)"
      ]
    },
    {
      "cell_type": "markdown",
      "metadata": {
        "deletable": true,
        "editable": true,
        "id": "KrObc9ZUiUDk"
      },
      "source": [
        "### Output\n",
        "\n",
        "We only care about the final output, we'll be using that as our sentiment prediction. So we need to grab the last output with `outputs[:, -1]`, the calculate the cost from that and `labels_`."
      ]
    },
    {
      "cell_type": "code",
      "execution_count": null,
      "metadata": {
        "deletable": true,
        "editable": true,
        "id": "8bB5xVQjiUDk"
      },
      "outputs": [],
      "source": [
        "with graph.as_default():\n",
        "    predictions = tf.contrib.layers.fully_connected(outputs[:, -1], 1, activation_fn=tf.sigmoid)\n",
        "    cost = tf.losses.mean_squared_error(labels_, predictions)\n",
        "    \n",
        "    optimizer = tf.train.AdamOptimizer(learning_rate).minimize(cost)"
      ]
    },
    {
      "cell_type": "markdown",
      "metadata": {
        "deletable": true,
        "editable": true,
        "id": "R0PDjLzwiUDl"
      },
      "source": [
        "### Validation accuracy\n",
        "\n",
        "Here we can add a few nodes to calculate the accuracy which we'll use in the validation pass."
      ]
    },
    {
      "cell_type": "code",
      "execution_count": null,
      "metadata": {
        "deletable": true,
        "editable": true,
        "id": "f-t50-PXiUDl"
      },
      "outputs": [],
      "source": [
        "with graph.as_default():\n",
        "    correct_pred = tf.equal(tf.cast(tf.round(predictions), tf.int32), labels_)\n",
        "    accuracy = tf.reduce_mean(tf.cast(correct_pred, tf.float32))"
      ]
    },
    {
      "cell_type": "code",
      "execution_count": null,
      "metadata": {
        "collapsed": true,
        "deletable": true,
        "editable": true,
        "id": "VsSDvY5DiUDm"
      },
      "outputs": [],
      "source": [
        "def get_batches(x, y, batch_size=100):\n",
        "    \n",
        "    n_batches = len(x)//batch_size\n",
        "    x, y = x[:n_batches*batch_size], y[:n_batches*batch_size]\n",
        "    for ii in range(0, len(x), batch_size):\n",
        "        yield x[ii:ii+batch_size], y[ii:ii+batch_size]"
      ]
    },
    {
      "cell_type": "code",
      "execution_count": null,
      "metadata": {
        "deletable": true,
        "editable": true,
        "id": "YlvJdk_hiUDm"
      },
      "outputs": [],
      "source": [
        "epochs = 10\n",
        "\n",
        "with graph.as_default():\n",
        "    saver = tf.train.Saver()\n",
        "\n",
        "with tf.Session(graph=graph) as sess:\n",
        "    sess.run(tf.global_variables_initializer())\n",
        "    iteration = 1\n",
        "    for e in range(epochs):\n",
        "        state = sess.run(initial_state)\n",
        "        \n",
        "        for ii, (x, y) in enumerate(get_batches(train_x, train_y, batch_size), 1):\n",
        "            feed = {inputs_: x,\n",
        "                    labels_: y[:, None],\n",
        "                    keep_prob: 0.5,\n",
        "                    initial_state: state}\n",
        "            loss, state, _ = sess.run([cost, final_state, optimizer], feed_dict=feed)\n",
        "            \n",
        "            if iteration%5==0:\n",
        "                print(\"Epoch: {}/{}\".format(e, epochs),\n",
        "                      \"Iteration: {}\".format(iteration),\n",
        "                      \"Train loss: {:.3f}\".format(loss))\n",
        "\n",
        "            if iteration%25==0:\n",
        "                val_acc = []\n",
        "                val_state = sess.run(cell.zero_state(batch_size, tf.float32))\n",
        "                for x, y in get_batches(val_x, val_y, batch_size):\n",
        "                    feed = {inputs_: x,\n",
        "                            labels_: y[:, None],\n",
        "                            keep_prob: 1,\n",
        "                            initial_state: val_state}\n",
        "                    batch_acc, val_state = sess.run([accuracy, final_state], feed_dict=feed)\n",
        "                    val_acc.append(batch_acc)\n",
        "                print(\"Val acc: {:.3f}\".format(np.mean(val_acc)))\n",
        "            iteration +=1\n",
        "    saver.save(sess, \"checkpoints/sentiment.ckpt\")"
      ]
    },
    {
      "cell_type": "markdown",
      "metadata": {
        "deletable": true,
        "editable": true,
        "id": "r3yOAMmviUDn"
      },
      "source": [
        "## Testing"
      ]
    },
    {
      "cell_type": "code",
      "execution_count": null,
      "metadata": {
        "deletable": true,
        "editable": true,
        "id": "fmhCLNawiUDn"
      },
      "outputs": [],
      "source": [
        "test_acc = []\n",
        "with tf.Session(graph=graph) as sess:\n",
        "    saver.restore(sess, tf.train.latest_checkpoint('/output/checkpoints'))\n",
        "    test_state = sess.run(cell.zero_state(batch_size, tf.float32))\n",
        "    for ii, (x, y) in enumerate(get_batches(test_x, test_y, batch_size), 1):\n",
        "        feed = {inputs_: x,\n",
        "                labels_: y[:, None],\n",
        "                keep_prob: 1,\n",
        "                initial_state: test_state}\n",
        "        batch_acc, test_state = sess.run([accuracy, final_state], feed_dict=feed)\n",
        "        test_acc.append(batch_acc)\n",
        "    print(\"Test accuracy: {:.3f}\".format(np.mean(test_acc)))"
      ]
    }
  ],
  "metadata": {
    "kernelspec": {
      "display_name": "Python 3",
      "language": "python",
      "name": "python3"
    },
    "language_info": {
      "codemirror_mode": {
        "name": "ipython",
        "version": 3
      },
      "file_extension": ".py",
      "mimetype": "text/x-python",
      "name": "python",
      "nbconvert_exporter": "python",
      "pygments_lexer": "ipython3",
      "version": "3.5.3"
    },
    "colab": {
      "name": "Sentiment RNN.ipynb",
      "provenance": []
    }
  },
  "nbformat": 4,
  "nbformat_minor": 0
}